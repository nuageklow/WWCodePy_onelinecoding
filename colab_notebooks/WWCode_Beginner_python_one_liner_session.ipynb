{
  "nbformat": 4,
  "nbformat_minor": 0,
  "metadata": {
    "colab": {
      "name": "WWCode Beginner python one-liner session.ipynb",
      "provenance": [],
      "collapsed_sections": [],
      "include_colab_link": true
    },
    "kernelspec": {
      "name": "python3",
      "display_name": "Python 3"
    },
    "language_info": {
      "name": "python"
    }
  },
  "cells": [
    {
      "cell_type": "markdown",
      "metadata": {
        "id": "view-in-github",
        "colab_type": "text"
      },
      "source": [
        "<a href=\"https://colab.research.google.com/github/nuageklow/wwc_onelinecoding/blob/main/colab_notebooks/WWCode_Beginner_python_one_liner_session.ipynb\" target=\"_parent\"><img src=\"https://colab.research.google.com/assets/colab-badge.svg\" alt=\"Open In Colab\"/></a>"
      ]
    },
    {
      "cell_type": "markdown",
      "metadata": {
        "id": "rPJMe3jWwjyA"
      },
      "source": [
        "# Welcome to *✨ Less is more: How to code python in one line ✨* !\n",
        "**Session 1: Beginner level**\n",
        "\n",
        "Hosted by Women Who Code Python Track\n",
        "\n",
        "**Using Google Colab**\n",
        "\n",
        "To execute code throughout this Google Colab notebook, please click File -> Save a copy in drive\n",
        "\n"
      ]
    },
    {
      "cell_type": "markdown",
      "metadata": {
        "id": "7AwB0mxLElF6"
      },
      "source": [
        "#### Zen of Python"
      ]
    },
    {
      "cell_type": "markdown",
      "metadata": {
        "id": "8RqV2A_YWUPr"
      },
      "source": [
        "A Pythoneer named **Tim Peters** once wrote 19 principles stating how one can write beautiful and clean code with Python. Came to be known as the **Zen of Python**. The guidelines motivate programmers to write simple, readable, and clean code.\n",
        "\n",
        "Being a developer, writing code and making it run is not the only job to do. Python is known for its readability and simplicity. Writing clean and readable code is an art which is appreciated by other programmers and let them understand every bit.\n"
      ]
    },
    {
      "cell_type": "code",
      "metadata": {
        "id": "1pYnc6KyWaC9"
      },
      "source": [
        "import this"
      ],
      "execution_count": null,
      "outputs": []
    },
    {
      "cell_type": "markdown",
      "metadata": {
        "id": "GAO2qqD9QRD-"
      },
      "source": [
        "### Timeit ⏱"
      ]
    },
    {
      "cell_type": "code",
      "metadata": {
        "id": "ZR3LqqOxQPVA"
      },
      "source": [
        "# \"timeit\" module provides a simple way to measure execution time of small bits of Python code. \n",
        "# Multiline code example to populate a 2-D array (99x99) with '0's'.\n",
        "\n",
        "import timeit # import timeit library\n",
        "s=\"\"\"\\\n",
        "n,m=99,99\n",
        "arr=[]\n",
        "for i in range(n):\n",
        "  arr1=[]\n",
        "  for i in range(m):\n",
        "    arr1.append(0)\n",
        "  arr.append(arr1) \"\"\"\n",
        "timeit.timeit(s) #using timeit function"
      ],
      "execution_count": null,
      "outputs": []
    },
    {
      "cell_type": "code",
      "metadata": {
        "id": "pWtvvCphQySf"
      },
      "source": [
        "# One-line code exampleof the above problem\n",
        "s= \"\"\"\\\n",
        "n,m=99,99\n",
        "arr=[[0 for i in range(m)] for j in range(n)]\"\"\"\n",
        "timeit.timeit(s)"
      ],
      "execution_count": null,
      "outputs": []
    },
    {
      "cell_type": "markdown",
      "metadata": {
        "id": "Tl2m8--P3ohV"
      },
      "source": [
        "### 👉🏼 Swapping two numbers"
      ]
    },
    {
      "cell_type": "markdown",
      "metadata": {
        "id": "0xr4s8GudfhU"
      },
      "source": [
        "Multiline code\n"
      ]
    },
    {
      "cell_type": "code",
      "metadata": {
        "id": "l6qUYJQvPF0X"
      },
      "source": [
        "# swap values of a and b\n",
        "a=4\n",
        "b=5\n",
        "\n",
        "c=a\n",
        "a=b\n",
        "b=c\n",
        "print('a',a ,'b',b)"
      ],
      "execution_count": null,
      "outputs": []
    },
    {
      "cell_type": "markdown",
      "metadata": {
        "id": "7tYR3HQgdj2W"
      },
      "source": [
        "One-liner code ✨"
      ]
    },
    {
      "cell_type": "code",
      "metadata": {
        "id": "Zern0rPd3Tyy",
        "cellView": "code"
      },
      "source": [
        "a=4\n",
        "b=5\n",
        "a,b=b,a # in one line\n",
        "\n",
        "print('a',a ,'b',b)"
      ],
      "execution_count": null,
      "outputs": []
    },
    {
      "cell_type": "markdown",
      "metadata": {
        "id": "2UWadjW53xZ-"
      },
      "source": [
        "###👉🏼 Multiple variable assignment"
      ]
    },
    {
      "cell_type": "markdown",
      "metadata": {
        "id": "uJ9mxSsAeAw3"
      },
      "source": [
        "Multi-line code"
      ]
    },
    {
      "cell_type": "code",
      "metadata": {
        "id": "R20znLz2d5eR"
      },
      "source": [
        "# assign a,b,c with values 4,4.5,'hello'\n",
        "a=4\n",
        "b=4.5\n",
        "c=\"hello\"\n",
        "print(a,b,c)"
      ],
      "execution_count": null,
      "outputs": []
    },
    {
      "cell_type": "markdown",
      "metadata": {
        "id": "RzFAd5o9eETa"
      },
      "source": [
        "One-line code ✨"
      ]
    },
    {
      "cell_type": "code",
      "metadata": {
        "id": "ANqiyq2x3lpB"
      },
      "source": [
        "a,b,c=4,4.5,\"hello\" # in one line\n",
        "print(a,b,c)"
      ],
      "execution_count": null,
      "outputs": []
    },
    {
      "cell_type": "code",
      "metadata": {
        "id": "kJJ4Q44KtTjo"
      },
      "source": [
        "#practice\n",
        "#Assign v1 and v2 as 'hello' & 'world'\n",
        "#swap the values of the viables\n",
        "\n"
      ],
      "execution_count": null,
      "outputs": []
    },
    {
      "cell_type": "markdown",
      "metadata": {
        "id": "iLsaqho38jny"
      },
      "source": [
        "# 💁🏻‍♀️ Recall Slicing!!\n",
        "\n",
        "x[start:stop:step]\n",
        "\n",
        "The resulting subsequence starts at index start (included) and ends at index stop (excluded). You can include an optional third step argument that determines which elements are carved out, so you could choose to include just every step-th element. For example, the slicing operation x[1:4:1] used on variable x = 'hello world' results in the string 'ell'. Slicing operation x[1:4:2] on the same variable results in string 'el' because only every other element is taken into the resulting slice. \n",
        "\n",
        "Always remember that strings and lists in Python starts from index 0.\n",
        "\n",
        "If you don’t include the step argument, Python assumes the default step size of one. For example, the slice call x[1:4] would result in the string 'ell'. If you don’t include the beginning or ending arguments, Python assumes you want to start at the start, or end at the end.\n",
        "\n",
        "For example, the slice call x[:4] would result in the string 'hell', and the slice call x[4:] would result in the string 'o world'."
      ]
    },
    {
      "cell_type": "code",
      "metadata": {
        "id": "YIbeEYly8jUO"
      },
      "source": [
        "s = 'Eat more fruits!'\n",
        "print(s[:5]) "
      ],
      "execution_count": null,
      "outputs": []
    },
    {
      "cell_type": "code",
      "metadata": {
        "id": "y-Y1yZNZ5fI8"
      },
      "source": [
        "print(s[3:0])\n"
      ],
      "execution_count": null,
      "outputs": []
    },
    {
      "cell_type": "code",
      "metadata": {
        "id": "btSlPgkh5fG8"
      },
      "source": [
        "\n",
        "print(s[4:8:2]) \n",
        "\n"
      ],
      "execution_count": null,
      "outputs": []
    },
    {
      "cell_type": "code",
      "metadata": {
        "id": "XkiqX57_5fFD"
      },
      "source": [
        "print(s[::-1]) \n"
      ],
      "execution_count": null,
      "outputs": []
    },
    {
      "cell_type": "code",
      "metadata": {
        "id": "mhWbYUQr5fCU"
      },
      "source": [
        "print(s[6:1:-1])\n"
      ],
      "execution_count": null,
      "outputs": []
    },
    {
      "cell_type": "markdown",
      "metadata": {
        "id": "gE2haMdu48Vy"
      },
      "source": [
        "###👉🏼 Palindrome check"
      ]
    },
    {
      "cell_type": "markdown",
      "metadata": {
        "id": "KrqZdnS8i6U1"
      },
      "source": [
        "Multi-line code"
      ]
    },
    {
      "cell_type": "code",
      "metadata": {
        "id": "SaFl3ZiWhNRN"
      },
      "source": [
        "#check whther a string is a palindrome or not\n",
        "def isPalindrome(str):\n",
        " \n",
        "    # Run loop from 0 to len/2\n",
        "    for i in range(0, int(len(str)/2)):\n",
        "        if str[i] != str[len(str)-i-1]:\n",
        "            return False\n",
        "    return True\n",
        " \n",
        "text = \"level\"\n",
        "ans = isPalindrome(text)\n",
        " \n",
        "if (ans):\n",
        "    print(\"True\")\n",
        "else:\n",
        "    print(\"False\") "
      ],
      "execution_count": null,
      "outputs": []
    },
    {
      "cell_type": "markdown",
      "metadata": {
        "id": "JLwRu1GJi--a"
      },
      "source": [
        "One-liner code ✨"
      ]
    },
    {
      "cell_type": "code",
      "metadata": {
        "id": "3LjoQpRq46mA"
      },
      "source": [
        "#practice \n",
        "#check palindrome in using one line code\n",
        "\n"
      ],
      "execution_count": null,
      "outputs": []
    },
    {
      "cell_type": "markdown",
      "metadata": {
        "id": "-NXkFke25IAC"
      },
      "source": [
        "###👉🏼 If-Else in one line"
      ]
    },
    {
      "cell_type": "markdown",
      "metadata": {
        "id": "dYsgQudRjSh0"
      },
      "source": [
        "Multi-line code"
      ]
    },
    {
      "cell_type": "code",
      "metadata": {
        "id": "ylwhLrBNjETZ"
      },
      "source": [
        "#Assign myval to 24 if '5<2' otherwise assign it 40\n",
        "if 5<2:\n",
        "  myval =24\n",
        "else:\n",
        "  myval=40\n",
        "print(myval)"
      ],
      "execution_count": null,
      "outputs": []
    },
    {
      "cell_type": "markdown",
      "metadata": {
        "id": "a8otnqL8jUqM"
      },
      "source": [
        "One-line code ✨"
      ]
    },
    {
      "cell_type": "code",
      "metadata": {
        "id": "8x8QHJyo5Hka"
      },
      "source": [
        "myval = 24 if 5<2 else 40\n",
        "print(myval)"
      ],
      "execution_count": null,
      "outputs": []
    },
    {
      "cell_type": "code",
      "metadata": {
        "id": "ho-15PyUxJ0B"
      },
      "source": [
        "#practice\n",
        "#print pass on marks greater than 30 or else print fail\n",
        "\n"
      ],
      "execution_count": null,
      "outputs": []
    },
    {
      "cell_type": "markdown",
      "metadata": {
        "id": "vhN6QZbe5Ygi"
      },
      "source": [
        "###👉🏼 Printing the same element many times using "
      ]
    },
    {
      "cell_type": "markdown",
      "metadata": {
        "id": "GTTsBkiFjkMK"
      },
      "source": [
        "Multi-line code"
      ]
    },
    {
      "cell_type": "code",
      "metadata": {
        "id": "5mMX3wyUjZ7T"
      },
      "source": [
        "#print 'x' five times\n",
        "test='x'+'x'+'x'+'x'+'x'\n",
        "print(test)"
      ],
      "execution_count": null,
      "outputs": []
    },
    {
      "cell_type": "markdown",
      "metadata": {
        "id": "SabLQacQjmDN"
      },
      "source": [
        "One-line code ✨"
      ]
    },
    {
      "cell_type": "code",
      "metadata": {
        "id": "tN6WF_dL4DaD"
      },
      "source": [
        "print('x'*5)"
      ],
      "execution_count": null,
      "outputs": []
    },
    {
      "cell_type": "code",
      "metadata": {
        "id": "J2id6qPyw7De"
      },
      "source": [
        "#practice\n",
        "#print '@' 200 times\n"
      ],
      "execution_count": null,
      "outputs": []
    },
    {
      "cell_type": "markdown",
      "metadata": {
        "id": "vTqenMlO5gHR"
      },
      "source": [
        "###👉🏼 To check the existence of a number in a list"
      ]
    },
    {
      "cell_type": "markdown",
      "metadata": {
        "id": "JHC0s9HtkXmd"
      },
      "source": [
        "Multi-line code"
      ]
    },
    {
      "cell_type": "code",
      "metadata": {
        "id": "6-2oh4_Djq8B"
      },
      "source": [
        "#check if 'num' is present in the list\n",
        "num=5\n",
        "ar=[1,2,3,4,5]\n",
        "for i in range(len(ar)):\n",
        "  if num==ar[i]:\n",
        "    print(\"present\")\n"
      ],
      "execution_count": null,
      "outputs": []
    },
    {
      "cell_type": "markdown",
      "metadata": {
        "id": "AODr1Lt8kZOa"
      },
      "source": [
        "One-line code ✨"
      ]
    },
    {
      "cell_type": "code",
      "metadata": {
        "id": "dIrfif1d4700"
      },
      "source": [
        "num = 5\n",
        "if num in [1,2,3,4,5]:\n",
        "  print('present')"
      ],
      "execution_count": null,
      "outputs": []
    },
    {
      "cell_type": "code",
      "metadata": {
        "id": "Qb-bp6wEwWf-"
      },
      "source": [
        "#practice\n",
        "#check if 'your favorite ice-cream flavour' is present in the list of available ice-cream flavours\n"
      ],
      "execution_count": null,
      "outputs": []
    },
    {
      "cell_type": "markdown",
      "metadata": {
        "id": "TmItM-UiyHOj"
      },
      "source": [
        "# Lets Practice One-liners with some examples !! 👩🏻‍💻👩🏻‍💻"
      ]
    },
    {
      "cell_type": "markdown",
      "metadata": {
        "id": "5UXW_Vag6Zd3"
      },
      "source": [
        "##Example 1️⃣\n",
        "\n",
        "Say you work in the human resources department of a large company and need to find all staff members who earn at least $100,000 per year. Your desired output is a list of tuples, each consisting of two values: the employee name and the employee’s yearly salary. Here’s the code you develop:"
      ]
    },
    {
      "cell_type": "code",
      "metadata": {
        "id": "6vpHiQ6h6DK9"
      },
      "source": [
        "employees = {'Alice' : 100000,\n",
        "                          'Bob' : 99817,\n",
        "                          'Carol' : 122908,\n",
        "                          'Frank' : 88123,\n",
        "                          'Eve' : 93121}\n",
        "top_earners = []\n",
        "for key, val in employees.items():\n",
        "  if val >= 100000:\n",
        "    top_earners.append((key,val))\n",
        "print(top_earners)\n",
        "# [('Alice', 100000), ('Carol', 122908)]"
      ],
      "execution_count": null,
      "outputs": []
    },
    {
      "cell_type": "markdown",
      "metadata": {
        "id": "9sPj9u3t604I"
      },
      "source": [
        "And heres how the above result can be achieved in a single line. ✨"
      ]
    },
    {
      "cell_type": "code",
      "metadata": {
        "id": "YVOZP7Wd6gjP"
      },
      "source": [
        "## Data\n",
        "employees = {'Alice' : 100000,\n",
        "             'Bob' : 99817,\n",
        "             'Carol' : 122908,\n",
        "             'Frank' : 88123,\n",
        "             'Eve' : 93121}\n",
        "## One-Liner\n",
        "top_earners = [(k, v) for k, v in employees.items() if v >= 100000]\n",
        "## Result\n",
        "print(top_earners)"
      ],
      "execution_count": null,
      "outputs": []
    },
    {
      "cell_type": "markdown",
      "metadata": {
        "id": "Rx2CkaAPBPAK"
      },
      "source": [
        "##Example 2️⃣\n",
        "\n",
        "Imagine you work at a small internet startup that keeps track of its users’ web browsers (Google Chrome, Firefox, Safari). You store the data in a database. To analyze the data, you load the gathered browser data into a large list of strings, but because of a bug in your tracking algorithm, every second string is corrupted and needs to be replaced by the correct string.\n",
        "\n",
        "So to reproduce the original data,  you want to duplicate every other string in the list: the list ['Firefox', 'corrupted', 'Chrome', 'corrupted'] becomes ['Firefox', 'Firefox', 'Chrome', 'Chrome']."
      ]
    },
    {
      "cell_type": "code",
      "metadata": {
        "id": "EsCdMHaO_DVt"
      },
      "source": [
        "## Data\n",
        "visitors = ['Firefox', 'corrupted', 'Chrome', 'corrupted',\n",
        "            'Safari', 'corrupted', 'Safari', 'corrupted',\n",
        "            'Chrome', 'corrupted', 'Firefox', 'corrupted']\n",
        "## One-Liner\n"
      ],
      "execution_count": null,
      "outputs": []
    },
    {
      "cell_type": "code",
      "metadata": {
        "id": "YDvBQRhsCIXZ"
      },
      "source": [
        ""
      ],
      "execution_count": null,
      "outputs": []
    }
  ]
}